{
  "nbformat": 4,
  "nbformat_minor": 0,
  "metadata": {
    "colab": {
      "name": "Untitled2.ipynb",
      "provenance": []
    },
    "kernelspec": {
      "name": "python3",
      "display_name": "Python 3"
    }
  },
  "cells": [
    {
      "cell_type": "code",
      "metadata": {
        "id": "-JSXGfchAPy9",
        "colab_type": "code",
        "colab": {}
      },
      "source": [
        "import numpy as np # linear algebra\n",
        "import pandas as pd # data processing, CSV file I/O (e.g. pd.read_csv)\n",
        "\n",
        "# Input data files are available in the \"../input/\" directory.\n",
        "# For example, running this (by clicking run or pressing Shift+Enter) will list the files in the input directory\n",
        "\n",
        "import os\n",
        "# print(os.listdir(\"../input\"))\n",
        "\n",
        "# Any results you write to the current directory are saved as output.\n",
        "import itertools\n",
        "import os\n",
        "\n",
        "%matplotlib inline\n",
        "import matplotlib.pyplot as plt\n",
        "import numpy as np\n",
        "import pandas as pd\n",
        "import tensorflow as tf\n",
        "\n",
        "from sklearn.preprocessing import LabelBinarizer, LabelEncoder\n",
        "from sklearn.metrics import confusion_matrix\n",
        "\n",
        "from tensorflow import keras\n",
        "layers = keras.layers\n",
        "models = keras.models"
      ],
      "execution_count": 0,
      "outputs": []
    },
    {
      "cell_type": "code",
      "metadata": {
        "id": "v3mbtf7G8CCn",
        "colab_type": "code",
        "colab": {}
      },
      "source": [
        "df = pd.read_csv('SingleLabel.csv')"
      ],
      "execution_count": 0,
      "outputs": []
    },
    {
      "cell_type": "code",
      "metadata": {
        "id": "Hk9sdwHD791M",
        "colab_type": "code",
        "colab": {
          "base_uri": "https://localhost:8080/",
          "height": 206
        },
        "outputId": "598e0293-c5e4-4da4-caef-f7a83a2ebf35"
      },
      "source": [
        "df.head()"
      ],
      "execution_count": 3,
      "outputs": [
        {
          "output_type": "execute_result",
          "data": {
            "text/html": [
              "<div>\n",
              "<style scoped>\n",
              "    .dataframe tbody tr th:only-of-type {\n",
              "        vertical-align: middle;\n",
              "    }\n",
              "\n",
              "    .dataframe tbody tr th {\n",
              "        vertical-align: top;\n",
              "    }\n",
              "\n",
              "    .dataframe thead th {\n",
              "        text-align: right;\n",
              "    }\n",
              "</style>\n",
              "<table border=\"1\" class=\"dataframe\">\n",
              "  <thead>\n",
              "    <tr style=\"text-align: right;\">\n",
              "      <th></th>\n",
              "      <th>artist</th>\n",
              "      <th>genre</th>\n",
              "      <th>title</th>\n",
              "      <th>album</th>\n",
              "      <th>year</th>\n",
              "      <th>lyrics</th>\n",
              "      <th>label</th>\n",
              "    </tr>\n",
              "  </thead>\n",
              "  <tbody>\n",
              "    <tr>\n",
              "      <th>0</th>\n",
              "      <td>Nirvana</td>\n",
              "      <td>Rock</td>\n",
              "      <td>You Know You’re Right</td>\n",
              "      <td>Nirvana</td>\n",
              "      <td>2002.0</td>\n",
              "      <td>I will never bother you\\nI will never promise ...</td>\n",
              "      <td>Sadness</td>\n",
              "    </tr>\n",
              "    <tr>\n",
              "      <th>1</th>\n",
              "      <td>Damian Marley</td>\n",
              "      <td>Reggae</td>\n",
              "      <td>Here We Go</td>\n",
              "      <td>Stony Hill</td>\n",
              "      <td>2017.0</td>\n",
              "      <td>Here we go\\nMy big ego is gonna get me in trou...</td>\n",
              "      <td>Tension</td>\n",
              "    </tr>\n",
              "    <tr>\n",
              "      <th>2</th>\n",
              "      <td>The Mission UK</td>\n",
              "      <td>Rock</td>\n",
              "      <td>Jade</td>\n",
              "      <td>Another Fall from Grace</td>\n",
              "      <td>2016.0</td>\n",
              "      <td>She came as Lolita dressed as Venus\\nAnd adorn...</td>\n",
              "      <td>Tenderness</td>\n",
              "    </tr>\n",
              "    <tr>\n",
              "      <th>3</th>\n",
              "      <td>UB40</td>\n",
              "      <td>Reggae</td>\n",
              "      <td>Food For Thought</td>\n",
              "      <td>Signing Off</td>\n",
              "      <td>1980.0</td>\n",
              "      <td>Ivory Madonna, dying in the dust\\nWaiting for ...</td>\n",
              "      <td>Sadness</td>\n",
              "    </tr>\n",
              "    <tr>\n",
              "      <th>4</th>\n",
              "      <td>Johnny Cash</td>\n",
              "      <td>Country</td>\n",
              "      <td>I’ve Been Everywhere</td>\n",
              "      <td>American II: Unchained</td>\n",
              "      <td>1996.0</td>\n",
              "      <td>I was totin' my pack along the dusty Winnemucc...</td>\n",
              "      <td>Sadness</td>\n",
              "    </tr>\n",
              "  </tbody>\n",
              "</table>\n",
              "</div>"
            ],
            "text/plain": [
              "           artist  ...       label\n",
              "0         Nirvana  ...     Sadness\n",
              "1   Damian Marley  ...     Tension\n",
              "2  The Mission UK  ...  Tenderness\n",
              "3            UB40  ...     Sadness\n",
              "4     Johnny Cash  ...     Sadness\n",
              "\n",
              "[5 rows x 7 columns]"
            ]
          },
          "metadata": {
            "tags": []
          },
          "execution_count": 3
        }
      ]
    },
    {
      "cell_type": "code",
      "metadata": {
        "id": "u76UqZ2UKSNZ",
        "colab_type": "code",
        "colab": {
          "base_uri": "https://localhost:8080/",
          "height": 34
        },
        "outputId": "3422d690-3ae9-4cf3-c87c-54f446080462"
      },
      "source": [
        "df['label'].unique()"
      ],
      "execution_count": 74,
      "outputs": [
        {
          "output_type": "execute_result",
          "data": {
            "text/plain": [
              "array(['Sadness', 'Tension', 'Tenderness'], dtype=object)"
            ]
          },
          "metadata": {
            "tags": []
          },
          "execution_count": 74
        }
      ]
    },
    {
      "cell_type": "code",
      "metadata": {
        "id": "6WlgHjadCxxG",
        "colab_type": "code",
        "colab": {}
      },
      "source": [
        "train_size = int(len(df) * .8)"
      ],
      "execution_count": 0,
      "outputs": []
    },
    {
      "cell_type": "code",
      "metadata": {
        "id": "GrHJXDUG-Rrq",
        "colab_type": "code",
        "colab": {}
      },
      "source": [
        "train_cat, test_cat = train_test_split(df['label'], train_size)\n",
        "train_text, test_text = train_test_split(df['lyrics'], train_size)"
      ],
      "execution_count": 0,
      "outputs": []
    },
    {
      "cell_type": "code",
      "metadata": {
        "id": "DzQ67tWXAN9J",
        "colab_type": "code",
        "colab": {}
      },
      "source": [
        "encoder = preprocessing.LabelEncoder()\n",
        "train_y = encoder.fit_transform(train_y)\n",
        "valid_y = encoder.fit_transform(valid_y)"
      ],
      "execution_count": 0,
      "outputs": []
    },
    {
      "cell_type": "code",
      "metadata": {
        "id": "5yvhTQk-C9_F",
        "colab_type": "code",
        "colab": {}
      },
      "source": [
        "def train_test_split(data, train_size):\n",
        "    train = data[:train_size]\n",
        "    test = data[train_size:]\n",
        "    return train, test"
      ],
      "execution_count": 0,
      "outputs": []
    },
    {
      "cell_type": "code",
      "metadata": {
        "id": "r9Wpc-gfDB0v",
        "colab_type": "code",
        "colab": {}
      },
      "source": [
        "train_cat, test_cat = train_test_split(df['label'], train_size)\n",
        "train_text, test_text = train_test_split(df['lyrics'], train_size)"
      ],
      "execution_count": 0,
      "outputs": []
    },
    {
      "cell_type": "code",
      "metadata": {
        "id": "wLzgQelDDI8Q",
        "colab_type": "code",
        "colab": {}
      },
      "source": [
        "max_words = 1000\n",
        "tokenize = keras.preprocessing.text.Tokenizer(num_words=max_words, \n",
        "                                              char_level=False)"
      ],
      "execution_count": 0,
      "outputs": []
    },
    {
      "cell_type": "code",
      "metadata": {
        "id": "fHmkGqV8DLpN",
        "colab_type": "code",
        "colab": {}
      },
      "source": [
        "tokenize.fit_on_texts(train_text) # fit tokenizer to our training text data\n",
        "x_train = tokenize.texts_to_matrix(train_text)\n",
        "x_test = tokenize.texts_to_matrix(test_text)"
      ],
      "execution_count": 0,
      "outputs": []
    },
    {
      "cell_type": "code",
      "metadata": {
        "id": "nETYKXf6DYla",
        "colab_type": "code",
        "colab": {}
      },
      "source": [
        "encoder = LabelEncoder()\n",
        "encoder.fit(train_cat)\n",
        "y_train = encoder.transform(train_cat)\n",
        "y_test = encoder.transform(test_cat)"
      ],
      "execution_count": 0,
      "outputs": []
    },
    {
      "cell_type": "code",
      "metadata": {
        "id": "5yG0KPtEDaz4",
        "colab_type": "code",
        "colab": {}
      },
      "source": [
        "num_classes = np.max(y_train) + 1\n",
        "y_train = keras.utils.to_categorical(y_train, num_classes)\n",
        "y_test = keras.utils.to_categorical(y_test, num_classes)"
      ],
      "execution_count": 0,
      "outputs": []
    },
    {
      "cell_type": "code",
      "metadata": {
        "id": "6NyQfL1pDcvY",
        "colab_type": "code",
        "colab": {
          "base_uri": "https://localhost:8080/",
          "height": 86
        },
        "outputId": "666926ab-ea06-49b6-cb39-f542bae88c12"
      },
      "source": [
        "print('x_train shape:', x_train.shape)\n",
        "print('x_test shape:', x_test.shape)\n",
        "print('y_train shape:', y_train.shape)\n",
        "print('y_test shape:', y_test.shape)"
      ],
      "execution_count": 22,
      "outputs": [
        {
          "output_type": "stream",
          "text": [
            "x_train shape: (928, 1000)\n",
            "x_test shape: (232, 1000)\n",
            "y_train shape: (928, 3)\n",
            "y_test shape: (232, 3)\n"
          ],
          "name": "stdout"
        }
      ]
    },
    {
      "cell_type": "code",
      "metadata": {
        "id": "3xcHy8GYDgpC",
        "colab_type": "code",
        "colab": {}
      },
      "source": [
        "def run_experiment(batch_size, epochs, drop_ratio):\n",
        "  print('batch size: {}, epochs: {}, drop_ratio: {}'.format(\n",
        "      batch_size, epochs, drop_ratio))\n",
        "  model = models.Sequential()\n",
        "  model.add(layers.Dense(512, input_shape=(max_words,)))\n",
        "  model.add(layers.Activation('relu'))\n",
        "  model.add(layers.Dropout(drop_ratio))\n",
        "  model.add(layers.Dense(num_classes))\n",
        "  model.add(layers.Activation('softmax'))\n",
        "\n",
        "  model.compile(loss='categorical_crossentropy',\n",
        "                optimizer='adam',\n",
        "                metrics=['accuracy'])\n",
        "  history = model.fit(x_train, y_train,\n",
        "                    batch_size=batch_size,\n",
        "                    epochs=epochs,\n",
        "                    verbose=0,\n",
        "                    validation_split=0.1)\n",
        "  score = model.evaluate(x_test, y_test,\n",
        "                       batch_size=batch_size, verbose=0)\n",
        "  print('\\tTest loss:', score[0])\n",
        "  print('\\tTest accuracy:', score[1])\n"
      ],
      "execution_count": 0,
      "outputs": []
    },
    {
      "cell_type": "code",
      "metadata": {
        "id": "0lWi8i31EuCS",
        "colab_type": "code",
        "colab": {
          "base_uri": "https://localhost:8080/",
          "height": 121
        },
        "outputId": "721c158d-2034-4c97-fb80-1565243a76d8"
      },
      "source": [
        "batch_size = 20\n",
        "epochs = 3\n",
        "drop_ratio = 0.3\n",
        "\n",
        "model = models.Sequential()\n",
        "model.add(layers.Dense(512, input_shape=(max_words,)))\n",
        "model.add(layers.Activation('relu'))\n",
        "# model.add(layers.Dropout(drop_ratio))\n",
        "model.add(layers.Dense(num_classes))\n",
        "model.add(layers.Activation('softmax'))\n",
        "\n",
        "model.compile(loss='categorical_crossentropy',\n",
        "              optimizer='adam',\n",
        "              metrics=['accuracy'])\n",
        "history = model.fit(x_train, y_train,\n",
        "                    batch_size=batch_size,\n",
        "                    epochs=epochs,\n",
        "                    verbose=1,\n",
        "                    validation_split=0.1)"
      ],
      "execution_count": 45,
      "outputs": [
        {
          "output_type": "stream",
          "text": [
            "Epoch 1/3\n",
            "42/42 [==============================] - 0s 6ms/step - loss: 1.0251 - accuracy: 0.5018 - val_loss: 0.9068 - val_accuracy: 0.6344\n",
            "Epoch 2/3\n",
            "42/42 [==============================] - 0s 4ms/step - loss: 0.5044 - accuracy: 0.8299 - val_loss: 0.9053 - val_accuracy: 0.6022\n",
            "Epoch 3/3\n",
            "42/42 [==============================] - 0s 4ms/step - loss: 0.2802 - accuracy: 0.9353 - val_loss: 0.9828 - val_accuracy: 0.6129\n"
          ],
          "name": "stdout"
        }
      ]
    },
    {
      "cell_type": "code",
      "metadata": {
        "id": "5I2-G9J2E6eK",
        "colab_type": "code",
        "colab": {
          "base_uri": "https://localhost:8080/",
          "height": 69
        },
        "outputId": "fab8178f-29a5-466f-bca3-d8b9c9856627"
      },
      "source": [
        "score = model.evaluate(x_test, y_test,\n",
        "                       batch_size=batch_size, verbose=1)\n",
        "print('Test loss:', score[0])\n",
        "print('Test accuracy:', score[1])"
      ],
      "execution_count": 46,
      "outputs": [
        {
          "output_type": "stream",
          "text": [
            "12/12 [==============================] - 0s 2ms/step - loss: 0.9534 - accuracy: 0.6164\n",
            "Test loss: 0.9533623456954956\n",
            "Test accuracy: 0.6163793206214905\n"
          ],
          "name": "stdout"
        }
      ]
    },
    {
      "cell_type": "code",
      "metadata": {
        "id": "vIN6S16KE9z-",
        "colab_type": "code",
        "colab": {}
      },
      "source": [
        "text_labels = encoder.classes_ "
      ],
      "execution_count": 0,
      "outputs": []
    },
    {
      "cell_type": "code",
      "metadata": {
        "id": "Jdy4ly2lFZIP",
        "colab_type": "code",
        "colab": {}
      },
      "source": [
        "lol = tokenize.texts_to_matrix([\"\"\"\n",
        "You sound like a bitch, bitch\n",
        "Shut the fuck up\n",
        "When your fans become your haters\n",
        "You done?\n",
        "Fuck, your beard's weird\n",
        "Alright\n",
        "You yellin' at the mic, you weird beard\n",
        "We doin' this once\n",
        "Your beard's weird, why you yellin' at the mic?\n",
        "Rihanna just hit me on a text\n",
        "Last night I left hickeys on her neck\n",
        "Wait, you just dissed me? I'm perplexed\n",
        "Insult me in a line, compliment me on the next, damn\n",
        "I'm really sorry you want me to have a heart attack\n",
        "Was watchin' 8 Mile on my NordicTrack\n",
        "Realized I forgot to call you back\n",
        "Here's that autograph for your daughter, I wrote it on a Starter cap\n",
        "Stan, Stan, son, listen, man, dad isn't mad\n",
        "But how you gonna name yourself after a damn gun and have a man bun?\n",
        "The giant's woke, eyes open, undeniable\n",
        "\"\"\"])"
      ],
      "execution_count": 0,
      "outputs": []
    },
    {
      "cell_type": "code",
      "metadata": {
        "id": "tU7--o8iGMpj",
        "colab_type": "code",
        "colab": {
          "base_uri": "https://localhost:8080/",
          "height": 52
        },
        "outputId": "dce448e8-5b9b-4818-96a8-e9bd0191d069"
      },
      "source": [
        "prediction = model.predict(np.array(lol))\n",
        "predicted_label = text_labels[np.argmax(prediction)]\n",
        "print(\"Predicted label: \" + predicted_label + \"\\n\") "
      ],
      "execution_count": 69,
      "outputs": [
        {
          "output_type": "stream",
          "text": [
            "Predicted label: Tension\n",
            "\n"
          ],
          "name": "stdout"
        }
      ]
    },
    {
      "cell_type": "code",
      "metadata": {
        "id": "cVNN6PO9HP_L",
        "colab_type": "code",
        "colab": {}
      },
      "source": [
        ""
      ],
      "execution_count": 0,
      "outputs": []
    }
  ]
}